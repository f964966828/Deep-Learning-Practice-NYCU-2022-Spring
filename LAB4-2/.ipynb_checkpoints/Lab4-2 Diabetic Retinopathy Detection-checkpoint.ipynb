{
 "cells": [
  {
   "cell_type": "code",
   "execution_count": 1,
   "id": "5fee9b78",
   "metadata": {},
   "outputs": [],
   "source": [
    "import matplotlib.pyplot as plt\n",
    "import numpy as np\n",
    "import time\n",
    "import torch\n",
    "import torch.nn as nn\n",
    "from tqdm.notebook import tqdm, trange\n",
    "from dataloader import getData, RetinopathyLoader\n",
    "from torch.utils.data import DataLoader\n",
    "from models import ResNet\n",
    "from torchvision import transforms"
   ]
  },
  {
   "cell_type": "code",
   "execution_count": 2,
   "id": "b4e9f552",
   "metadata": {},
   "outputs": [
    {
     "name": "stdout",
     "output_type": "stream",
     "text": [
      "> Found 28099 images...\n",
      "> Found 7025 images...\n"
     ]
    }
   ],
   "source": [
    "mean = torch.tensor([0.1857, 0.2602, 0.3749]) \n",
    "std = torch.tensor([0.1291, 0.1780, 0.2525])\n",
    "\n",
    "train_transform = transforms.Compose([\n",
    "    transforms.RandomHorizontalFlip(), # 隨機將圖片水平翻轉\n",
    "    transforms.RandomRotation(15), # 隨機旋轉圖片\n",
    "    transforms.Normalize(mean=mean, std=mean),\n",
    "])\n",
    "\n",
    "val_transform = transforms.Compose([               \n",
    "    transforms.Normalize(mean=mean, std=mean),               \n",
    "])\n",
    "\n",
    "root = './data'\n",
    "batch_size = 16\n",
    "train_set = RetinopathyLoader(root, 'train', transform = train_transform)\n",
    "val_set = RetinopathyLoader(root, 'test', transform = val_transform)\n",
    "train_loader = DataLoader(train_set, batch_size=batch_size, shuffle=True, num_workers=4, pin_memory=True)\n",
    "val_loader = DataLoader(val_set, batch_size=batch_size, shuffle=False, num_workers=4, pin_memory=True)"
   ]
  },
  {
   "cell_type": "code",
   "execution_count": null,
   "id": "922ad72f",
   "metadata": {
    "scrolled": false
   },
   "outputs": [
    {
     "name": "stdout",
     "output_type": "stream",
     "text": [
      "resnet50 with pretrained training start.\n"
     ]
    },
    {
     "data": {
      "application/vnd.jupyter.widget-view+json": {
       "model_id": "063674b8ecea4d63a0643a1b96b49f94",
       "version_major": 2,
       "version_minor": 0
      },
      "text/plain": [
       "  0%|          |0/2197[?it/s]"
      ]
     },
     "metadata": {},
     "output_type": "display_data"
    }
   ],
   "source": [
    "# version, pretrained, num_epoch\n",
    "model_settings = [[50, True, 10], [50, False, 10], [18, True, 10], [18, False, 10]]\n",
    "train_accuracy = [list() for _ in range(4)]\n",
    "val_accuracy = [list() for _ in range(4)]\n",
    "\n",
    "for idx, model_setting in enumerate(model_settings):\n",
    "    version, pretrained, num_epoch = model_setting\n",
    "    print(f'resnet{version} {\"with\" if pretrained else \"wo\"} pretrained training start.')\n",
    "    \n",
    "    model = ResNet(version=version, pretrained=pretrained).cuda()\n",
    "    loss = nn.CrossEntropyLoss()\n",
    "    optimizer = torch.optim.SGD(model.parameters(), lr=1e-3, momentum=0.9, weight_decay=5e-4)\n",
    "    \n",
    "    best_acc = 0.0\n",
    "    for epoch in range(num_epoch):\n",
    "        epoch_start_time = time.time()\n",
    "        train_acc = 0.0\n",
    "        train_loss = 0.0\n",
    "        val_acc = 0.0\n",
    "        val_loss = 0.0\n",
    "        train_count = 1e-8\n",
    "        val_count = 1e-8\n",
    "\n",
    "        progress = tqdm(total = len(train_loader) + len(val_loader), colour='purple', \\\n",
    "                        bar_format='{desc}{percentage:3.0f}%|{bar}|{n}/{total}[{rate_fmt}{postfix}]')\n",
    "        model.train()\n",
    "        for i, data in enumerate(train_loader):\n",
    "            optimizer.zero_grad()\n",
    "            train_pred = model(data[0].type(torch.FloatTensor).cuda())\n",
    "            batch_loss = loss(train_pred, data[1].cuda())\n",
    "            batch_loss.backward()\n",
    "            optimizer.step()\n",
    "\n",
    "            train_acc += np.sum(np.argmax(train_pred.cpu().data.numpy(), axis=1) == data[1].numpy())\n",
    "            train_loss += batch_loss.item() * len(train_pred)\n",
    "            train_count += len(train_pred)\n",
    "\n",
    "            progress.set_description('[{:03d}/{:03d}] {:2.2f} sec(s) Train Acc: {:3.2f}% Loss: {:3.2f} | Val Acc: {:3.2f}% loss: {:3.2f}]' \\\n",
    "            .format(epoch+1, num_epoch, time.time()-epoch_start_time, \\\n",
    "            train_acc/train_count*100, train_loss/train_count, \\\n",
    "            val_acc/val_count*100, val_loss/val_count))\n",
    "            progress.update(1)\n",
    "        train_accuracy[idx].append(train_acc/train_count*100)\n",
    "\n",
    "        model.eval()\n",
    "        with torch.no_grad():\n",
    "            for i, data in enumerate(val_loader):\n",
    "                val_pred = model(data[0].type(torch.FloatTensor).cuda())\n",
    "                batch_loss = loss(val_pred, data[1].cuda())\n",
    "\n",
    "                val_acc += np.sum(np.argmax(val_pred.cpu().data.numpy(), axis=1) == data[1].numpy())\n",
    "                val_loss += batch_loss.item() * len(val_pred)\n",
    "                val_count += len(val_pred)\n",
    "\n",
    "                progress.set_description('[{:03d}/{:03d}] {:2.2f} sec(s) Train Acc: {:3.2f}% Loss: {:3.2f} | Val Acc: {:3.2f}% loss: {:3.2f}]' \\\n",
    "                .format(epoch+1, num_epoch, time.time()-epoch_start_time, \\\n",
    "                 train_acc/train_count*100, train_loss/train_count, \\\n",
    "                val_acc/val_count*100, val_loss/val_count))\n",
    "                progress.update(1)\n",
    "            val_accuracy[idx].append(val_acc/val_count*100)\n",
    "        \n",
    "        if val_acc/val_count*100 > best_acc:\n",
    "            best_acc = val_acc/val_count*100\n",
    "            torch.save(model.state_dict(), f'./model/resnet{version}_{\"with\" if pretrained else \"wo\"}_pretrained.pt')\n",
    "        "
   ]
  },
  {
   "cell_type": "code",
   "execution_count": null,
   "id": "7be503b3",
   "metadata": {
    "scrolled": false
   },
   "outputs": [],
   "source": []
  },
  {
   "cell_type": "code",
   "execution_count": null,
   "id": "dc39a2a4",
   "metadata": {},
   "outputs": [],
   "source": []
  },
  {
   "cell_type": "code",
   "execution_count": null,
   "id": "9f4a97ae",
   "metadata": {},
   "outputs": [],
   "source": []
  }
 ],
 "metadata": {
  "kernelspec": {
   "display_name": "Python 3",
   "language": "python",
   "name": "python3"
  },
  "language_info": {
   "codemirror_mode": {
    "name": "ipython",
    "version": 3
   },
   "file_extension": ".py",
   "mimetype": "text/x-python",
   "name": "python",
   "nbconvert_exporter": "python",
   "pygments_lexer": "ipython3",
   "version": "3.8.8"
  }
 },
 "nbformat": 4,
 "nbformat_minor": 5
}
