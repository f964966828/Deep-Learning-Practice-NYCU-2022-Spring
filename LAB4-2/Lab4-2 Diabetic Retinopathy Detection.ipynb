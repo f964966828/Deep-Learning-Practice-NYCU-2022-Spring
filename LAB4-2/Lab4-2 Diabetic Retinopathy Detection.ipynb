{
 "cells": [
  {
   "cell_type": "code",
   "execution_count": 62,
   "id": "5fee9b78",
   "metadata": {},
   "outputs": [],
   "source": [
    "import matplotlib.pyplot as plt\n",
    "import numpy as np\n",
    "import pandas as pd\n",
    "import time\n",
    "import itertools\n",
    "import torch\n",
    "import torch.nn as nn\n",
    "from sklearn.metrics import classification_report\n",
    "from sklearn.metrics import confusion_matrix\n",
    "from tqdm.notebook import tqdm, trange\n",
    "from dataloader import getData, RetinopathyLoader\n",
    "from torch.utils.data import DataLoader\n",
    "from models import ResNet\n",
    "from torchvision import transforms"
   ]
  },
  {
   "cell_type": "code",
   "execution_count": 2,
   "id": "b4e9f552",
   "metadata": {},
   "outputs": [
    {
     "name": "stdout",
     "output_type": "stream",
     "text": [
      "> Found 28099 images...\n",
      "> Found 7025 images...\n"
     ]
    }
   ],
   "source": [
    "mean = torch.tensor([0.1857, 0.2602, 0.3749]) \n",
    "std = torch.tensor([0.1291, 0.1780, 0.2525])\n",
    "\n",
    "train_transform = transforms.Compose([\n",
    "    transforms.RandomHorizontalFlip(), # 隨機將圖片水平翻轉\n",
    "    transforms.RandomRotation(15), # 隨機旋轉圖片\n",
    "    transforms.Normalize(mean=mean, std=mean),\n",
    "])\n",
    "\n",
    "val_transform = transforms.Compose([               \n",
    "    transforms.Normalize(mean=mean, std=mean),               \n",
    "])\n",
    "\n",
    "root = './data'\n",
    "batch_size = 16\n",
    "train_set = RetinopathyLoader(root, 'train', transform = train_transform)\n",
    "val_set = RetinopathyLoader(root, 'test', transform = val_transform)\n",
    "train_loader = DataLoader(train_set, batch_size=batch_size, shuffle=True, num_workers=4, pin_memory=True)\n",
    "val_loader = DataLoader(val_set, batch_size=batch_size, shuffle=False, num_workers=4, pin_memory=True)"
   ]
  },
  {
   "cell_type": "code",
   "execution_count": 3,
   "id": "922ad72f",
   "metadata": {
    "scrolled": false
   },
   "outputs": [
    {
     "name": "stdout",
     "output_type": "stream",
     "text": [
      "resnet50 with pretrained training start.\n"
     ]
    },
    {
     "data": {
      "application/vnd.jupyter.widget-view+json": {
       "model_id": "063674b8ecea4d63a0643a1b96b49f94",
       "version_major": 2,
       "version_minor": 0
      },
      "text/plain": [
       "  0%|          |0/2197[?it/s]"
      ]
     },
     "metadata": {},
     "output_type": "display_data"
    },
    {
     "data": {
      "application/vnd.jupyter.widget-view+json": {
       "model_id": "5a31c182bb234d5ab23e7f4520568e4d",
       "version_major": 2,
       "version_minor": 0
      },
      "text/plain": [
       "  0%|          |0/2197[?it/s]"
      ]
     },
     "metadata": {},
     "output_type": "display_data"
    },
    {
     "data": {
      "application/vnd.jupyter.widget-view+json": {
       "model_id": "e498a0fe914b4adb94168794f6e8e688",
       "version_major": 2,
       "version_minor": 0
      },
      "text/plain": [
       "  0%|          |0/2197[?it/s]"
      ]
     },
     "metadata": {},
     "output_type": "display_data"
    },
    {
     "data": {
      "application/vnd.jupyter.widget-view+json": {
       "model_id": "66014282b23b49b3b225f9fbce894f5c",
       "version_major": 2,
       "version_minor": 0
      },
      "text/plain": [
       "  0%|          |0/2197[?it/s]"
      ]
     },
     "metadata": {},
     "output_type": "display_data"
    },
    {
     "data": {
      "application/vnd.jupyter.widget-view+json": {
       "model_id": "adc9288e3bc1489f84c2244230b801e1",
       "version_major": 2,
       "version_minor": 0
      },
      "text/plain": [
       "  0%|          |0/2197[?it/s]"
      ]
     },
     "metadata": {},
     "output_type": "display_data"
    },
    {
     "data": {
      "application/vnd.jupyter.widget-view+json": {
       "model_id": "a0fcc2bbb088420492cfc7047ccaf582",
       "version_major": 2,
       "version_minor": 0
      },
      "text/plain": [
       "  0%|          |0/2197[?it/s]"
      ]
     },
     "metadata": {},
     "output_type": "display_data"
    },
    {
     "data": {
      "application/vnd.jupyter.widget-view+json": {
       "model_id": "eae75c23c5414630a76963a50fdae65d",
       "version_major": 2,
       "version_minor": 0
      },
      "text/plain": [
       "  0%|          |0/2197[?it/s]"
      ]
     },
     "metadata": {},
     "output_type": "display_data"
    },
    {
     "data": {
      "application/vnd.jupyter.widget-view+json": {
       "model_id": "033c17a1f6e848b1b50dd46a84c7f0e7",
       "version_major": 2,
       "version_minor": 0
      },
      "text/plain": [
       "  0%|          |0/2197[?it/s]"
      ]
     },
     "metadata": {},
     "output_type": "display_data"
    },
    {
     "data": {
      "application/vnd.jupyter.widget-view+json": {
       "model_id": "3983ab72ef1f487a94eaa67a5bbf13df",
       "version_major": 2,
       "version_minor": 0
      },
      "text/plain": [
       "  0%|          |0/2197[?it/s]"
      ]
     },
     "metadata": {},
     "output_type": "display_data"
    },
    {
     "data": {
      "application/vnd.jupyter.widget-view+json": {
       "model_id": "4f88bcad66ff4c9b92fc3294e7d1ed97",
       "version_major": 2,
       "version_minor": 0
      },
      "text/plain": [
       "  0%|          |0/2197[?it/s]"
      ]
     },
     "metadata": {},
     "output_type": "display_data"
    },
    {
     "name": "stdout",
     "output_type": "stream",
     "text": [
      "resnet50 wo pretrained training start.\n"
     ]
    },
    {
     "data": {
      "application/vnd.jupyter.widget-view+json": {
       "model_id": "c5bccbf5cc6e42f88b5dbedf2dc6054e",
       "version_major": 2,
       "version_minor": 0
      },
      "text/plain": [
       "  0%|          |0/2197[?it/s]"
      ]
     },
     "metadata": {},
     "output_type": "display_data"
    },
    {
     "data": {
      "application/vnd.jupyter.widget-view+json": {
       "model_id": "13352c8ecae5411ba4908b0b2f5b194d",
       "version_major": 2,
       "version_minor": 0
      },
      "text/plain": [
       "  0%|          |0/2197[?it/s]"
      ]
     },
     "metadata": {},
     "output_type": "display_data"
    },
    {
     "data": {
      "application/vnd.jupyter.widget-view+json": {
       "model_id": "21a6c30d016a42148d1e1b84d2665037",
       "version_major": 2,
       "version_minor": 0
      },
      "text/plain": [
       "  0%|          |0/2197[?it/s]"
      ]
     },
     "metadata": {},
     "output_type": "display_data"
    },
    {
     "data": {
      "application/vnd.jupyter.widget-view+json": {
       "model_id": "5192ee9e768b487182b2a26571530993",
       "version_major": 2,
       "version_minor": 0
      },
      "text/plain": [
       "  0%|          |0/2197[?it/s]"
      ]
     },
     "metadata": {},
     "output_type": "display_data"
    },
    {
     "data": {
      "application/vnd.jupyter.widget-view+json": {
       "model_id": "39df108acdd14efb8396d8ffd7ad6916",
       "version_major": 2,
       "version_minor": 0
      },
      "text/plain": [
       "  0%|          |0/2197[?it/s]"
      ]
     },
     "metadata": {},
     "output_type": "display_data"
    },
    {
     "data": {
      "application/vnd.jupyter.widget-view+json": {
       "model_id": "9731f02d477249559521c910cb62c131",
       "version_major": 2,
       "version_minor": 0
      },
      "text/plain": [
       "  0%|          |0/2197[?it/s]"
      ]
     },
     "metadata": {},
     "output_type": "display_data"
    },
    {
     "data": {
      "application/vnd.jupyter.widget-view+json": {
       "model_id": "cb22f366db6344b0b978c6f8904f7b61",
       "version_major": 2,
       "version_minor": 0
      },
      "text/plain": [
       "  0%|          |0/2197[?it/s]"
      ]
     },
     "metadata": {},
     "output_type": "display_data"
    },
    {
     "data": {
      "application/vnd.jupyter.widget-view+json": {
       "model_id": "a6be37fbc21f427bb6709f9235473466",
       "version_major": 2,
       "version_minor": 0
      },
      "text/plain": [
       "  0%|          |0/2197[?it/s]"
      ]
     },
     "metadata": {},
     "output_type": "display_data"
    },
    {
     "data": {
      "application/vnd.jupyter.widget-view+json": {
       "model_id": "c7ac56b88b454568a941ddaa3e576af9",
       "version_major": 2,
       "version_minor": 0
      },
      "text/plain": [
       "  0%|          |0/2197[?it/s]"
      ]
     },
     "metadata": {},
     "output_type": "display_data"
    },
    {
     "data": {
      "application/vnd.jupyter.widget-view+json": {
       "model_id": "8b019769e15e4e8caeccd949662c98ee",
       "version_major": 2,
       "version_minor": 0
      },
      "text/plain": [
       "  0%|          |0/2197[?it/s]"
      ]
     },
     "metadata": {},
     "output_type": "display_data"
    },
    {
     "name": "stdout",
     "output_type": "stream",
     "text": [
      "resnet18 with pretrained training start.\n"
     ]
    },
    {
     "data": {
      "application/vnd.jupyter.widget-view+json": {
       "model_id": "2f2e6a6f98714bd2865a2d08de1cd03c",
       "version_major": 2,
       "version_minor": 0
      },
      "text/plain": [
       "  0%|          |0/2197[?it/s]"
      ]
     },
     "metadata": {},
     "output_type": "display_data"
    },
    {
     "data": {
      "application/vnd.jupyter.widget-view+json": {
       "model_id": "24a74873b9b74d7f813a3c6203f15839",
       "version_major": 2,
       "version_minor": 0
      },
      "text/plain": [
       "  0%|          |0/2197[?it/s]"
      ]
     },
     "metadata": {},
     "output_type": "display_data"
    },
    {
     "data": {
      "application/vnd.jupyter.widget-view+json": {
       "model_id": "92e6b7f8bb04411e80c66f0df33e2400",
       "version_major": 2,
       "version_minor": 0
      },
      "text/plain": [
       "  0%|          |0/2197[?it/s]"
      ]
     },
     "metadata": {},
     "output_type": "display_data"
    },
    {
     "data": {
      "application/vnd.jupyter.widget-view+json": {
       "model_id": "b280afa7cf57421ca143f6df355fa4de",
       "version_major": 2,
       "version_minor": 0
      },
      "text/plain": [
       "  0%|          |0/2197[?it/s]"
      ]
     },
     "metadata": {},
     "output_type": "display_data"
    },
    {
     "data": {
      "application/vnd.jupyter.widget-view+json": {
       "model_id": "a989be09299d4d7badd49a9d058c89ff",
       "version_major": 2,
       "version_minor": 0
      },
      "text/plain": [
       "  0%|          |0/2197[?it/s]"
      ]
     },
     "metadata": {},
     "output_type": "display_data"
    },
    {
     "data": {
      "application/vnd.jupyter.widget-view+json": {
       "model_id": "15d2c377dd4c4f99ac5bfe91030f85f1",
       "version_major": 2,
       "version_minor": 0
      },
      "text/plain": [
       "  0%|          |0/2197[?it/s]"
      ]
     },
     "metadata": {},
     "output_type": "display_data"
    },
    {
     "data": {
      "application/vnd.jupyter.widget-view+json": {
       "model_id": "c099b3d65e3245c9aaa214d69164c3fc",
       "version_major": 2,
       "version_minor": 0
      },
      "text/plain": [
       "  0%|          |0/2197[?it/s]"
      ]
     },
     "metadata": {},
     "output_type": "display_data"
    },
    {
     "data": {
      "application/vnd.jupyter.widget-view+json": {
       "model_id": "d7c56e83a12c49f5a1219edefc955bcd",
       "version_major": 2,
       "version_minor": 0
      },
      "text/plain": [
       "  0%|          |0/2197[?it/s]"
      ]
     },
     "metadata": {},
     "output_type": "display_data"
    },
    {
     "data": {
      "application/vnd.jupyter.widget-view+json": {
       "model_id": "da44c5e4f2e64100bb9c911261384997",
       "version_major": 2,
       "version_minor": 0
      },
      "text/plain": [
       "  0%|          |0/2197[?it/s]"
      ]
     },
     "metadata": {},
     "output_type": "display_data"
    },
    {
     "data": {
      "application/vnd.jupyter.widget-view+json": {
       "model_id": "9bc87707b3284997975b64904a28e852",
       "version_major": 2,
       "version_minor": 0
      },
      "text/plain": [
       "  0%|          |0/2197[?it/s]"
      ]
     },
     "metadata": {},
     "output_type": "display_data"
    },
    {
     "name": "stdout",
     "output_type": "stream",
     "text": [
      "resnet18 wo pretrained training start.\n"
     ]
    },
    {
     "data": {
      "application/vnd.jupyter.widget-view+json": {
       "model_id": "9b66500f7b14437c80185921a4809654",
       "version_major": 2,
       "version_minor": 0
      },
      "text/plain": [
       "  0%|          |0/2197[?it/s]"
      ]
     },
     "metadata": {},
     "output_type": "display_data"
    },
    {
     "data": {
      "application/vnd.jupyter.widget-view+json": {
       "model_id": "8ea7e3f499c44f51b585a2c8bb946446",
       "version_major": 2,
       "version_minor": 0
      },
      "text/plain": [
       "  0%|          |0/2197[?it/s]"
      ]
     },
     "metadata": {},
     "output_type": "display_data"
    },
    {
     "data": {
      "application/vnd.jupyter.widget-view+json": {
       "model_id": "e036096ac5a64bd9a05e5683795e9f2d",
       "version_major": 2,
       "version_minor": 0
      },
      "text/plain": [
       "  0%|          |0/2197[?it/s]"
      ]
     },
     "metadata": {},
     "output_type": "display_data"
    },
    {
     "data": {
      "application/vnd.jupyter.widget-view+json": {
       "model_id": "44be543acbb843728893bc3dde60268d",
       "version_major": 2,
       "version_minor": 0
      },
      "text/plain": [
       "  0%|          |0/2197[?it/s]"
      ]
     },
     "metadata": {},
     "output_type": "display_data"
    },
    {
     "data": {
      "application/vnd.jupyter.widget-view+json": {
       "model_id": "3d8429d922d14553a6ec2c878bd59500",
       "version_major": 2,
       "version_minor": 0
      },
      "text/plain": [
       "  0%|          |0/2197[?it/s]"
      ]
     },
     "metadata": {},
     "output_type": "display_data"
    },
    {
     "data": {
      "application/vnd.jupyter.widget-view+json": {
       "model_id": "d29b4dc9aae74b22a76bd654a40330d8",
       "version_major": 2,
       "version_minor": 0
      },
      "text/plain": [
       "  0%|          |0/2197[?it/s]"
      ]
     },
     "metadata": {},
     "output_type": "display_data"
    },
    {
     "data": {
      "application/vnd.jupyter.widget-view+json": {
       "model_id": "afb9bffc825748b9b8cf9d274df063d1",
       "version_major": 2,
       "version_minor": 0
      },
      "text/plain": [
       "  0%|          |0/2197[?it/s]"
      ]
     },
     "metadata": {},
     "output_type": "display_data"
    },
    {
     "data": {
      "application/vnd.jupyter.widget-view+json": {
       "model_id": "3c5a7c0b7eaa42e181f65aecb45273b6",
       "version_major": 2,
       "version_minor": 0
      },
      "text/plain": [
       "  0%|          |0/2197[?it/s]"
      ]
     },
     "metadata": {},
     "output_type": "display_data"
    },
    {
     "data": {
      "application/vnd.jupyter.widget-view+json": {
       "model_id": "36ac7be74a124f6dbb8cb1ab2dc225ad",
       "version_major": 2,
       "version_minor": 0
      },
      "text/plain": [
       "  0%|          |0/2197[?it/s]"
      ]
     },
     "metadata": {},
     "output_type": "display_data"
    },
    {
     "data": {
      "application/vnd.jupyter.widget-view+json": {
       "model_id": "d3bd7048ac534759adc565a0b9329a51",
       "version_major": 2,
       "version_minor": 0
      },
      "text/plain": [
       "  0%|          |0/2197[?it/s]"
      ]
     },
     "metadata": {},
     "output_type": "display_data"
    }
   ],
   "source": [
    "# version, pretrained, num_epoch\n",
    "model_settings = [[50, True, 10], [50, False, 10], [18, True, 10], [18, False, 10]]\n",
    "train_accuracy = [list() for _ in range(4)]\n",
    "val_accuracy = [list() for _ in range(4)]\n",
    "\n",
    "for idx, model_setting in enumerate(model_settings):\n",
    "    version, pretrained, num_epoch = model_setting\n",
    "    print(f'resnet{version} {\"with\" if pretrained else \"wo\"} pretrained training start.')\n",
    "    \n",
    "    model = ResNet(version=version, pretrained=pretrained).cuda()\n",
    "    loss = nn.CrossEntropyLoss()\n",
    "    optimizer = torch.optim.SGD(model.parameters(), lr=1e-3, momentum=0.9, weight_decay=5e-4)\n",
    "    \n",
    "    best_acc = 0.0\n",
    "    for epoch in range(num_epoch):\n",
    "        epoch_start_time = time.time()\n",
    "        train_acc = 0.0\n",
    "        train_loss = 0.0\n",
    "        val_acc = 0.0\n",
    "        val_loss = 0.0\n",
    "        train_count = 1e-8\n",
    "        val_count = 1e-8\n",
    "\n",
    "        progress = tqdm(total = len(train_loader) + len(val_loader), colour='purple', \\\n",
    "                        bar_format='{desc}{percentage:3.0f}%|{bar}|{n}/{total}[{rate_fmt}{postfix}]')\n",
    "        model.train()\n",
    "        for i, data in enumerate(train_loader):\n",
    "            optimizer.zero_grad()\n",
    "            train_pred = model(data[0].type(torch.FloatTensor).cuda())\n",
    "            batch_loss = loss(train_pred, data[1].cuda())\n",
    "            batch_loss.backward()\n",
    "            optimizer.step()\n",
    "\n",
    "            train_acc += np.sum(np.argmax(train_pred.cpu().data.numpy(), axis=1) == data[1].numpy())\n",
    "            train_loss += batch_loss.item() * len(train_pred)\n",
    "            train_count += len(train_pred)\n",
    "\n",
    "            progress.set_description('[{:03d}/{:03d}] {:2.2f} sec(s) Train Acc: {:3.2f}% Loss: {:3.2f} | Val Acc: {:3.2f}% loss: {:3.2f}]' \\\n",
    "            .format(epoch+1, num_epoch, time.time()-epoch_start_time, \\\n",
    "            train_acc/train_count*100, train_loss/train_count, \\\n",
    "            val_acc/val_count*100, val_loss/val_count))\n",
    "            progress.update(1)\n",
    "        train_accuracy[idx].append(train_acc/train_count*100)\n",
    "\n",
    "        model.eval()\n",
    "        with torch.no_grad():\n",
    "            for i, data in enumerate(val_loader):\n",
    "                val_pred = model(data[0].type(torch.FloatTensor).cuda())\n",
    "                batch_loss = loss(val_pred, data[1].cuda())\n",
    "\n",
    "                val_acc += np.sum(np.argmax(val_pred.cpu().data.numpy(), axis=1) == data[1].numpy())\n",
    "                val_loss += batch_loss.item() * len(val_pred)\n",
    "                val_count += len(val_pred)\n",
    "\n",
    "                progress.set_description('[{:03d}/{:03d}] {:2.2f} sec(s) Train Acc: {:3.2f}% Loss: {:3.2f} | Val Acc: {:3.2f}% loss: {:3.2f}]' \\\n",
    "                .format(epoch+1, num_epoch, time.time()-epoch_start_time, \\\n",
    "                 train_acc/train_count*100, train_loss/train_count, \\\n",
    "                val_acc/val_count*100, val_loss/val_count))\n",
    "                progress.update(1)\n",
    "            val_accuracy[idx].append(val_acc/val_count*100)\n",
    "        \n",
    "        if val_acc/val_count*100 > best_acc:\n",
    "            best_acc = val_acc/val_count*100\n",
    "            torch.save(model.state_dict(), f'./model/resnet{version}_{\"with\" if pretrained else \"wo\"}_pretrained.pt')\n",
    "        "
   ]
  },
  {
   "cell_type": "code",
   "execution_count": 30,
   "id": "dc39a2a4",
   "metadata": {},
   "outputs": [
    {
     "data": {
      "image/png": "[encoded data removed]",
      "text/plain": [
       "<Figure size 640x480 with 1 Axes>"
      ]
     },
     "metadata": {},
     "output_type": "display_data"
    },
    {
     "data": {
      "image/png": "[encoded data removed]",
      "text/plain": [
       "<Figure size 640x480 with 1 Axes>"
      ]
     },
     "metadata": {},
     "output_type": "display_data"
    }
   ],
   "source": [
    "plt.figure()\n",
    "plt.plot(val_accuracy[3], label='Test(w/o pretraining)')\n",
    "plt.plot(val_accuracy[2], label='Test(with pretraining)')\n",
    "plt.plot(train_accuracy[3], label='Train(w/o pretraining)')\n",
    "plt.plot(train_accuracy[2], label='Train(with pretraining)')\n",
    "plt.xlabel('Epochs')\n",
    "plt.ylabel('Accuracy(%)')\n",
    "plt.title('Result Comparison(ResNet18)')\n",
    "plt.grid()\n",
    "plt.legend()\n",
    "plt.show()\n",
    "\n",
    "plt.figure()\n",
    "plt.plot(val_accuracy[1], label='Test(w/o pretraining)')\n",
    "plt.plot(val_accuracy[0], label='Test(with pretraining)')\n",
    "plt.plot(train_accuracy[1], label='Train(w/o pretraining)')\n",
    "plt.plot(train_accuracy[0], label='Train(with pretraining)')\n",
    "plt.xlabel('Epochs')\n",
    "plt.ylabel('Accuracy(%)')\n",
    "plt.title('Result Comparison(ResNet50)')\n",
    "plt.grid()\n",
    "plt.legend()\n",
    "plt.show()"
   ]
  },
  {
   "cell_type": "code",
   "execution_count": 52,
   "id": "7be503b3",
   "metadata": {
    "scrolled": false
   },
   "outputs": [
    {
     "data": {
      "text/html": [
       "<div>\n",
       "<style scoped>\n",
       "    .dataframe tbody tr th:only-of-type {\n",
       "        vertical-align: middle;\n",
       "    }\n",
       "\n",
       "    .dataframe tbody tr th {\n",
       "        vertical-align: top;\n",
       "    }\n",
       "\n",
       "    .dataframe thead th {\n",
       "        text-align: right;\n",
       "    }\n",
       "</style>\n",
       "<table border=\"1\" class=\"dataframe\">\n",
       "  <thead>\n",
       "    <tr style=\"text-align: right;\">\n",
       "      <th></th>\n",
       "      <th>w/o pretrained</th>\n",
       "      <th>with pretrained</th>\n",
       "    </tr>\n",
       "  </thead>\n",
       "  <tbody>\n",
       "    <tr>\n",
       "      <th>ResNet18</th>\n",
       "      <td>73.35%</td>\n",
       "      <td>81.49%</td>\n",
       "    </tr>\n",
       "    <tr>\n",
       "      <th>ResNet50</th>\n",
       "      <td>73.3%</td>\n",
       "      <td>82.73%</td>\n",
       "    </tr>\n",
       "  </tbody>\n",
       "</table>\n",
       "</div>"
      ],
      "text/plain": [
       "         w/o pretrained with pretrained\n",
       "ResNet18         73.35%          81.49%\n",
       "ResNet50          73.3%          82.73%"
      ]
     },
     "metadata": {},
     "output_type": "display_data"
    }
   ],
   "source": [
    "df = list()\n",
    "df.append([max(val_accuracy[3]), max(val_accuracy[2])])\n",
    "df.append([max(val_accuracy[1]), max(val_accuracy[0])])\n",
    "df = pd.DataFrame(df)\n",
    "df[0] = df[0].apply(lambda x: str(round(x, 2)) + '%')\n",
    "df[1] = df[1].apply(lambda x: str(round(x, 2)) + '%')\n",
    "df.index = ['ResNet18', 'ResNet50']\n",
    "df.columns = ['w/o pretrained', 'with pretrained']\n",
    "display(df)"
   ]
  },
  {
   "cell_type": "code",
   "execution_count": 67,
   "id": "9f4a97ae",
   "metadata": {},
   "outputs": [
    {
     "data": {
      "application/vnd.jupyter.widget-view+json": {
       "model_id": "81d3b1951ccc4cf3aa93beca4e9853fc",
       "version_major": 2,
       "version_minor": 0
      },
      "text/plain": [
       "  0%|          |0/440[?it/s]"
      ]
     },
     "metadata": {},
     "output_type": "display_data"
    },
    {
     "name": "stdout",
     "output_type": "stream",
     "text": [
      "accuracy: 82.73309608540926\n"
     ]
    }
   ],
   "source": [
    "model = ResNet(version=50, pretrained=True).cuda()\n",
    "model.load_state_dict(torch.load('./model/resnet50_with_pretrained.pt'))\n",
    "model.eval()\n",
    "loss = nn.CrossEntropyLoss()\n",
    "\n",
    "progress = tqdm(total = len(val_loader), colour='purple', \\\n",
    "                bar_format='{desc}{percentage:3.0f}%|{bar}|{n}/{total}[{rate_fmt}{postfix}]')\n",
    "\n",
    "val_acc = 0.0\n",
    "val_count = 1e-8\n",
    "epoch_start_time = time.time()\n",
    "y_true, y_pred = list(), list()\n",
    "with torch.no_grad():\n",
    "    for i, data in enumerate(val_loader):\n",
    "        val_pred = model(data[0].type(torch.FloatTensor).cuda())\n",
    "        batch_loss = loss(val_pred, data[1].type(torch.LongTensor).cuda())\n",
    "\n",
    "        val_acc += np.sum(np.argmax(val_pred.cpu().data.numpy(), axis=1) == data[1].numpy())\n",
    "        val_count += len(val_pred)\n",
    "        y_true += list(data[1].numpy())\n",
    "        y_pred += list(np.argmax(val_pred.cpu().data.numpy(), axis=1))\n",
    "        \n",
    "        progress.set_description('{:2.2f} sec(s) Val Acc: {:3.2f}% loss: {:3.2f}]' \\\n",
    "        .format(time.time()-epoch_start_time, \\\n",
    "        val_acc/val_count*100, val_loss/val_count))\n",
    "        progress.update(1)\n",
    "    print(f'accuracy: {val_acc/val_set.__len__()*100}')"
   ]
  },
  {
   "cell_type": "code",
   "execution_count": 84,
   "id": "578f6dad",
   "metadata": {},
   "outputs": [
    {
     "data": {
      "image/png": "[encoded data removed]",
      "text/plain": [
       "<Figure size 640x480 with 2 Axes>"
      ]
     },
     "metadata": {},
     "output_type": "display_data"
    }
   ],
   "source": [
    "plt.figure()\n",
    "cm = confusion_matrix(y_true, y_pred)\n",
    "cm = cm.astype('float') / cm.sum(axis=1)[:, np.newaxis]\n",
    "plt.imshow(cm, interpolation='nearest', cmap=plt.cm.Blues)\n",
    "plt.title('Normalized confusion matrix')\n",
    "plt.colorbar()\n",
    "\n",
    "thresh = cm.max() / 2.\n",
    "for i, j in itertools.product(range(cm.shape[0]), range(cm.shape[1])):\n",
    "    plt.text(j, i, format(cm[i, j], '.2f'),\n",
    "             horizontalalignment=\"center\",\n",
    "             color=\"white\" if cm[i, j] > thresh else \"black\")\n",
    "\n",
    "plt.ylabel('True label')\n",
    "plt.xlabel('Predicted label')\n",
    "plt.tight_layout()\n",
    "plt.show()"
   ]
  },
  {
   "cell_type": "code",
   "execution_count": null,
   "id": "c4b99dbc",
   "metadata": {},
   "outputs": [],
   "source": []
  },
  {
   "cell_type": "code",
   "execution_count": null,
   "id": "d441d488",
   "metadata": {},
   "outputs": [],
   "source": []
  }
 ],
 "metadata": {
  "kernelspec": {
   "display_name": "Python 3",
   "language": "python",
   "name": "python3"
  },
  "language_info": {
   "codemirror_mode": {
    "name": "ipython",
    "version": 3
   },
   "file_extension": ".py",
   "mimetype": "text/x-python",
   "name": "python",
   "nbconvert_exporter": "python",
   "pygments_lexer": "ipython3",
   "version": "3.8.8"
  }
 },
 "nbformat": 4,
 "nbformat_minor": 5
}
